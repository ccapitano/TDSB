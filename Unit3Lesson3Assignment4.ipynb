{
 "cells": [
  {
   "cell_type": "code",
   "execution_count": 1,
   "metadata": {},
   "outputs": [],
   "source": [
    "# Import libraries and collections\n",
    "import pandas as pd\n",
    "import numpy as np\n",
    "import statistics\n",
    "import collections\n",
    "import matplotlib.pyplot as plt\n",
    "%matplotlib inline"
   ]
  },
  {
   "cell_type": "code",
   "execution_count": 16,
   "metadata": {},
   "outputs": [
    {
     "data": {
      "text/plain": [
       "(array([ 2.,  1.,  9., 15., 22., 16., 12., 10., 10.,  3.]),\n",
       " array([ 0.,  1.,  2.,  3.,  4.,  5.,  6.,  7.,  8.,  9., 10.]),\n",
       " <a list of 10 Patch objects>)"
      ]
     },
     "execution_count": 16,
     "metadata": {},
     "output_type": "execute_result"
    },
    {
     "data": {
      "image/png": "[encoded data removed]",
      "text/plain": [
       "<Figure size 432x288 with 1 Axes>"
      ]
     },
     "metadata": {
      "needs_background": "light"
     },
     "output_type": "display_data"
    }
   ],
   "source": [
    "# Generate random distribution using a Poisson distribution\n",
    "poisson_distrib = np.random.poisson(5,100)\n",
    "# View the distribution in a histogram\n",
    "plt.hist(poisson_distrib)       "
   ]
  },
  {
   "cell_type": "code",
   "execution_count": 30,
   "metadata": {},
   "outputs": [
    {
     "data": {
      "image/png": "[encoded data removed]",
      "text/plain": [
       "<Figure size 432x288 with 1 Axes>"
      ]
     },
     "metadata": {
      "needs_background": "light"
     },
     "output_type": "display_data"
    }
   ],
   "source": [
    "# View the distribution in a histogram\n",
    "plt.hist(poisson_distrib, bins=10)\n",
    "\n",
    "# Add a vertical line at the mean.\n",
    "plt.axvline(poisson_distrib.mean(), color='c', linestyle='solid', linewidth=2)\n",
    "\n",
    "# Add a vertical line at one standard deviation above the mean.\n",
    "plt.axvline(poisson_distrib.mean() + poisson_distrib.std(), color='c', linestyle='dashed', linewidth=2)\n",
    "\n",
    "# Add a vertical line at one standard deviation below the mean.\n",
    "plt.axvline(poisson_distrib.mean()-poisson_distrib.std(), color='c', linestyle='dashed', linewidth=2) \n",
    "\n",
    "# Print the histogram.\n",
    "plt.show()"
   ]
  },
  {
   "cell_type": "code",
   "execution_count": 4,
   "metadata": {},
   "outputs": [
    {
     "data": {
      "text/plain": [
       "(array([49., 25., 11.,  8.,  3.,  2.,  0.,  0.,  1.,  1.]),\n",
       " array([ 1. ,  3.6,  6.2,  8.8, 11.4, 14. , 16.6, 19.2, 21.8, 24.4, 27. ]),\n",
       " <a list of 10 Patch objects>)"
      ]
     },
     "execution_count": 4,
     "metadata": {},
     "output_type": "execute_result"
    },
    {
     "data": {
      "image/png": "[encoded data removed]",
      "text/plain": [
       "<Figure size 432x288 with 1 Axes>"
      ]
     },
     "metadata": {
      "needs_background": "light"
     },
     "output_type": "display_data"
    }
   ],
   "source": [
    "# Generate random distribution using a geometric distribution\n",
    "geo_distrib = np.random.geometric(.2,100)\n",
    "# View the distribution in a histogram\n",
    "plt.hist(geo_distrib)"
   ]
  },
  {
   "cell_type": "code",
   "execution_count": 34,
   "metadata": {},
   "outputs": [
    {
     "data": {
      "image/png": "[encoded data removed]",
      "text/plain": [
       "<Figure size 432x288 with 1 Axes>"
      ]
     },
     "metadata": {
      "needs_background": "light"
     },
     "output_type": "display_data"
    }
   ],
   "source": [
    "# View the distribution in a histogram\n",
    "plt.hist(geo_distrib, bins=30)\n",
    "\n",
    "# Add a vertical line at the mean.\n",
    "plt.axvline(geo_distrib.mean(), color='C', linestyle='solid', linewidth=2)\n",
    "\n",
    "# Add a vertical line at one standard deviation above the mean.\n",
    "plt.axvline(geo_distrib.mean() + geo_distrib.std(), color='c', linestyle='dashed', linewidth=2)\n",
    "\n",
    "# Add a vertical line at one standard deviation below the mean.\n",
    "plt.axvline(geo_distrib.mean()-geo_distrib.std(), color='c', linestyle='dashed', linewidth=2) \n",
    "\n",
    "# Print the histogram.\n",
    "plt.show()"
   ]
  },
  {
   "cell_type": "code",
   "execution_count": 13,
   "metadata": {},
   "outputs": [
    {
     "data": {
      "text/plain": [
       "(array([49., 28., 13.,  7.,  2.,  0.,  0.,  0.,  0.,  1.]),\n",
       " array([0.00047612, 0.00722923, 0.01398234, 0.02073544, 0.02748855,\n",
       "        0.03424166, 0.04099476, 0.04774787, 0.05450098, 0.06125409,\n",
       "        0.06800719]),\n",
       " <a list of 10 Patch objects>)"
      ]
     },
     "execution_count": 13,
     "metadata": {},
     "output_type": "execute_result"
    },
    {
     "data": {
      "image/png": "[encoded data removed]",
      "text/plain": [
       "<Figure size 432x288 with 1 Axes>"
      ]
     },
     "metadata": {
      "needs_background": "light"
     },
     "output_type": "display_data"
    }
   ],
   "source": [
    "# Generate random distribution using a lognormal distribution\n",
    "log_distrib = np.random.lognormal(-5,1,100)\n",
    "# View the distribution in a histogram\n",
    "plt.hist(log_distrib)"
   ]
  },
  {
   "cell_type": "code",
   "execution_count": 35,
   "metadata": {},
   "outputs": [
    {
     "data": {
      "image/png": "[encoded data removed]",
      "text/plain": [
       "<Figure size 432x288 with 1 Axes>"
      ]
     },
     "metadata": {
      "needs_background": "light"
     },
     "output_type": "display_data"
    }
   ],
   "source": [
    "# View the distribution in a histogram\n",
    "plt.hist(log_distrib, bins=30)\n",
    "\n",
    "# Add a vertical line at the mean.\n",
    "plt.axvline(log_distrib.mean(), color='C', linestyle='solid', linewidth=2)\n",
    "\n",
    "# Add a vertical linelog at one standard deviation above the mean.\n",
    "plt.axvline(log_distrib.mean() + log_distrib.std(), color='c', linestyle='dashed', linewidth=2)\n",
    "\n",
    "# Add a vertical line at one standard deviation below the mean.\n",
    "plt.axvline(log_distrib.mean()-log_distrib.std(), color='c', linestyle='dashed', linewidth=2) \n",
    "\n",
    "# Print the histogram\n",
    "plt.show()"
   ]
  },
  {
   "cell_type": "code",
   "execution_count": 14,
   "metadata": {},
   "outputs": [
    {
     "data": {
      "text/plain": [
       "(array([ 5.,  5.,  9., 18.,  9., 13., 21., 12.,  7.,  1.]),\n",
       " array([13. , 14.3, 15.6, 16.9, 18.2, 19.5, 20.8, 22.1, 23.4, 24.7, 26. ]),\n",
       " <a list of 10 Patch objects>)"
      ]
     },
     "execution_count": 14,
     "metadata": {},
     "output_type": "execute_result"
    },
    {
     "data": {
      "image/png": "[encoded data removed]",
      "text/plain": [
       "<Figure size 432x288 with 1 Axes>"
      ]
     },
     "metadata": {
      "needs_background": "light"
     },
     "output_type": "display_data"
    }
   ],
   "source": [
    "# Generate random distribution using a binomial distribution\n",
    "binom_distrib = np.random.binomial(40,.5,100)\n",
    "# View the distribution in a histogram\n",
    "plt.hist(binom_distrib)"
   ]
  },
  {
   "cell_type": "code",
   "execution_count": 38,
   "metadata": {},
   "outputs": [
    {
     "data": {
      "image/png": "[encoded data removed]",
      "text/plain": [
       "<Figure size 432x288 with 1 Axes>"
      ]
     },
     "metadata": {
      "needs_background": "light"
     },
     "output_type": "display_data"
    }
   ],
   "source": [
    "# View the distribution in a histogram\n",
    "plt.hist(binom_distrib, bins=10)\n",
    "\n",
    "# Add a vertical line at the mean.\n",
    "plt.axvline(binom_distrib.mean(), color='C', linestyle='solid', linewidth=2)\n",
    "\n",
    "# Add a vertical linelog at one standard deviation above the mean.\n",
    "plt.axvline(binom_distrib.mean() + binom_distrib.std(), color='c', linestyle='dashed', linewidth=2)\n",
    "\n",
    "# Add a vertical line at one standard deviation below the mean.\n",
    "plt.axvline(binom_distrib.mean()-binom_distrib.std(), color='c', linestyle='dashed', linewidth=2) \n",
    "\n",
    "# Print the histogram\n",
    "plt.show()"
   ]
  },
  {
   "cell_type": "code",
   "execution_count": 11,
   "metadata": {},
   "outputs": [
    {
     "data": {
      "text/plain": [
       "(array([ 4.,  8., 11., 14., 17., 14., 15.,  7.,  5.,  5.]),\n",
       " array([0.44915629, 0.5425835 , 0.63601072, 0.72943794, 0.82286515,\n",
       "        0.91629237, 1.00971959, 1.1031468 , 1.19657402, 1.29000123,\n",
       "        1.38342845]),\n",
       " <a list of 10 Patch objects>)"
      ]
     },
     "execution_count": 11,
     "metadata": {},
     "output_type": "execute_result"
    },
    {
     "data": {
      "image/png": "[encoded data removed]",
      "text/plain": [
       "<Figure size 432x288 with 1 Axes>"
      ]
     },
     "metadata": {
      "needs_background": "light"
     },
     "output_type": "display_data"
    }
   ],
   "source": [
    "# Generate random distribution using a Weibull distribution\n",
    "weibull_distrib = np.random.weibull(5,100)\n",
    "# View the distribution in a histogram\n",
    "plt.hist(weibull"
   ]
  },
  {
   "cell_type": "code",
   "execution_count": 40,
   "metadata": {},
   "outputs": [
    {
     "data": {
      "image/png": "[encoded data removed]",
      "text/plain": [
       "<Figure size 432x288 with 1 Axes>"
      ]
     },
     "metadata": {
      "needs_background": "light"
     },
     "output_type": "display_data"
    }
   ],
   "source": [
    "# View the distribution in a histogram\n",
    "plt.hist(weibull_distrib, bins=20)\n",
    "\n",
    "# Add a vertical line at the mean.\n",
    "plt.axvline(weibull_distrib.mean(), color='C', linestyle='solid', linewidth=2)\n",
    "\n",
    "# Add a vertical linelog at one standard deviation above the mean.\n",
    "plt.axvline(weibull_distrib.mean() + weibull_distrib.std(), color='c', linestyle='dashed', linewidth=2)\n",
    "\n",
    "# Add a vertical line at one standard deviation below the mean.\n",
    "plt.axvline(weibull_distrib.mean()-weibull_distrib.std(), color='c', linestyle='dashed', linewidth=2) \n",
    "\n",
    "# Print the histogram\n",
    "plt.show()"
   ]
  },
  {
   "cell_type": "code",
   "execution_count": 42,
   "metadata": {},
   "outputs": [
    {
     "data": {
      "text/plain": [
       "(array([ 4.,  9., 12., 25., 15., 14., 12.,  6.,  2.,  1.]),\n",
       " array([-0.93770402, -0.70936276, -0.48102149, -0.25268023, -0.02433897,\n",
       "         0.20400229,  0.43234355,  0.66068482,  0.88902608,  1.11736734,\n",
       "         1.3457086 ]),\n",
       " <a list of 10 Patch objects>)"
      ]
     },
     "execution_count": 42,
     "metadata": {},
     "output_type": "execute_result"
    },
    {
     "data": {
      "image/png": "[encoded data removed]",
      "text/plain": [
       "<Figure size 432x288 with 1 Axes>"
      ]
     },
     "metadata": {
      "needs_background": "light"
     },
     "output_type": "display_data"
    }
   ],
   "source": [
    "# Generate random distribution using a Standard Normal distribution\n",
    "normal_distrib = np.random.normal(0,.5,100)\n",
    "# View the distribution in a histogram\n",
    "plt.hist(normal_distrib)"
   ]
  },
  {
   "cell_type": "code",
   "execution_count": 43,
   "metadata": {},
   "outputs": [
    {
     "data": {
      "image/png": "[encoded data removed]",
      "text/plain": [
       "<Figure size 432x288 with 1 Axes>"
      ]
     },
     "metadata": {
      "needs_background": "light"
     },
     "output_type": "display_data"
    }
   ],
   "source": [
    "# View the distribution in a histogram\n",
    "plt.hist(normal_distrib, bins=20)\n",
    "\n",
    "# Add a vertical line at the mean.\n",
    "plt.axvline(normal_distrib.mean(), color='C', linestyle='solid', linewidth=2)\n",
    "\n",
    "# Add a vertical linelog at one standard deviation above the mean.\n",
    "plt.axvline(normal_distrib.mean() + normal_distrib.std(), color='c', linestyle='dashed', linewidth=2)\n",
    "\n",
    "# Add a vertical line at one standard deviation below the mean.\n",
    "plt.axvline(normal_distrib.mean()-normal_distrib.std(), color='c', linestyle='dashed', linewidth=2) \n",
    "\n",
    "# Print the histogram\n",
    "plt.show()"
   ]
  },
  {
   "cell_type": "code",
   "execution_count": 51,
   "metadata": {},
   "outputs": [
    {
     "name": "stdout",
     "output_type": "stream",
     "text": [
      "1.1645352655851338\n"
     ]
    },
    {
     "data": {
      "text/plain": [
       "(array([ 3.,  1.,  2.,  6.,  4.,  6.,  9.,  8., 10., 12., 14., 11.,  1.,\n",
       "         5.,  4.,  2.,  1.,  0.,  0.,  1.]),\n",
       " array([12.19211365, 12.51161102, 12.8311084 , 13.15060577, 13.47010314,\n",
       "        13.78960051, 14.10909788, 14.42859526, 14.74809263, 15.06759   ,\n",
       "        15.38708737, 15.70658474, 16.02608212, 16.34557949, 16.66507686,\n",
       "        16.98457423, 17.3040716 , 17.62356898, 17.94306635, 18.26256372,\n",
       "        18.58206109]),\n",
       " <a list of 20 Patch objects>)"
      ]
     },
     "execution_count": 51,
     "metadata": {},
     "output_type": "execute_result"
    },
    {
     "data": {
      "image/png": "[encoded data removed]",
      "text/plain": [
       "<Figure size 432x288 with 1 Axes>"
      ]
     },
     "metadata": {
      "needs_background": "light"
     },
     "output_type": "display_data"
    }
   ],
   "source": [
    "# Generate two normally-distributed variables, one with a mean of 5 and standard deviation of 0.5, \n",
    "# and the other with a mean of 10 and standard deviation of 1. \n",
    "var1 = np.random.normal(5,.5,100)\n",
    "var2 = np.random.normal(10,1,100)\n",
    "\n",
    "# Add them together to create a third variable.\n",
    "var3 = var2 + var1\n",
    "\n",
    "# Graph the third variable using a histogram.\n",
    "plt.hist(var3, bins=20)\n"
   ]
  },
  {
   "cell_type": "code",
   "execution_count": 52,
   "metadata": {},
   "outputs": [
    {
     "name": "stdout",
     "output_type": "stream",
     "text": [
      "14.98303908221187\n",
      "1.1645352655851338\n"
     ]
    },
    {
     "data": {
      "image/png": "[encoded data removed]",
      "text/plain": [
       "<Figure size 432x288 with 1 Axes>"
      ]
     },
     "metadata": {
      "needs_background": "light"
     },
     "output_type": "display_data"
    }
   ],
   "source": [
    "# Compute the mean and standard deviation and plot them as vertical lines on the histogram.\n",
    "print(var3.mean())\n",
    "print(var3.std())\n",
    "\n",
    "\n",
    "# Create a histogram.\n",
    "plt.hist(var3, bins=20)\n",
    "\n",
    "# Add a vertical line at the mean.\n",
    "plt.axvline(var3.mean(), color='C', linestyle='solid', linewidth=2)\n",
    "\n",
    "# Add a vertical line at one standard deviation above the mean.\n",
    "plt.axvline(var3.mean() + var3.std(), color='c', linestyle='dashed', linewidth=2)\n",
    "\n",
    "# Add a vertical line at one standard deviation below the mean.\n",
    "plt.axvline(var3.mean()-var3.std(), color='c', linestyle='dashed', linewidth=2) \n",
    "\n",
    "# Print the histogram\n",
    "plt.show()\n"
   ]
  },
  {
   "cell_type": "code",
   "execution_count": 53,
   "metadata": {},
   "outputs": [],
   "source": [
    "# Evaluate the descriptive statistics against the data.\n",
    "#  The mean of 14.98 is extremely close the mean of the generated data (15)\n",
    "#  More data points are skewed to the left of the mean while the higher values are on the right side\n",
    "\n"
   ]
  }
 ],
 "metadata": {
  "kernelspec": {
   "display_name": "Python 3",
   "language": "python",
   "name": "python3"
  },
  "language_info": {
   "codemirror_mode": {
    "name": "ipython",
    "version": 3
   },
   "file_extension": ".py",
   "mimetype": "text/x-python",
   "name": "python",
   "nbconvert_exporter": "python",
   "pygments_lexer": "ipython3",
   "version": "3.7.2"
  }
 },
 "nbformat": 4,
 "nbformat_minor": 2
}
