{
 "cells": [
  {
   "cell_type": "code",
   "execution_count": 1,
   "metadata": {},
   "outputs": [],
   "source": [
    "class Node:\n",
    "    def __init__(self, val):\n",
    "        self.left = None\n",
    "        self.right = None\n",
    "        self.val = val\n",
    "# What this has done is create the framework for nodes. A node will take a value, \n",
    "# which gives us the value at that point. It also lets us establish a left and right value, \n",
    "# the two children of this node. To create a binary tree, we simply populate those \n",
    "# children with their own nodes."
   ]
  },
  {
   "cell_type": "code",
   "execution_count": 3,
   "metadata": {},
   "outputs": [],
   "source": [
    "# Establish the initial root node and children\n",
    "root = Node('A')\n",
    "root.left = Node('B')\n",
    "root.right = Node('c')\n",
    "\n",
    "# Add the appropriate children for ‘B’ and ‘C’\n",
    "root.left.left = Node('D')\n",
    "root.left.right = Node('E')\n",
    "root.right.left = Node('F')\n",
    "root.right.right = Node('G')\n",
    "\n",
    "# And there you have it. We’ve now successfully implemented our example tree in Python. \n",
    "# Note that this tree can easily grow by adding further children to leaf nodes, an important \n",
    "# feature of trees that can be valuable if you need your tree to dynamically grow and prune."
   ]
  },
  {
   "cell_type": "code",
   "execution_count": 45,
   "metadata": {},
   "outputs": [
    {
     "name": "stdout",
     "output_type": "stream",
     "text": [
      "<__main__.Node object at 0x000001A1CCBAA588>\n",
      "<__main__.Node object at 0x000001A1CCBAA588>\n",
      "<__main__.Node object at 0x000001A1CCBAA550> <__main__.Node object at 0x000001A1CCBAA5C0>\n",
      "<__main__.Node object at 0x000001A1CCBAA5F8> <__main__.Node object at 0x000001A1CCBAA668> <__main__.Node object at 0x000001A1CCBAA6D8> <__main__.Node object at 0x000001A1CCBAA710>\n",
      "<__main__.Node object at 0x000001A1CCC507F0> <__main__.Node object at 0x000001A1CCC50DD8> <__main__.Node object at 0x000001A1CCC506A0> <__main__.Node object at 0x000001A1CCC50C88> <__main__.Node object at 0x000001A1CCC509B0> <__main__.Node object at 0x000001A1CCC509E8> <__main__.Node object at 0x000001A1CCC50710> <__main__.Node object at 0x000001A1CCC50320>\n"
     ]
    }
   ],
   "source": [
    "# Drill:  Implement a binary tree, which is filled with 15 pieces of random data. \n",
    "# Your job is to then write a program to traverse the tree using a breadth first traversal\n",
    "\n",
    "# Add the children for ‘D’ and ‘E’ and ‘F’ and ‘G’ to make 15 piece binary tree\n",
    "root.left.left.left = Node('H')\n",
    "root.left.left.right = Node('I')\n",
    "root.left.right.left = Node('J')\n",
    "root.left.right.right = Node('K')\n",
    "root.right.left.left = Node('L')\n",
    "root.right.left.right = Node('M')\n",
    "root.right.right.left = Node('N')\n",
    "root.right.right.right = Node('O')\n",
    "print(root)\n",
    "\n",
    "# Function to print level order traversal of tree\n",
    "def traverse(tree):\n",
    "    current_level = [tree]\n",
    "    while current_level:\n",
    "        print(' '.join(str(node) for node in current_level))\n",
    "        next_level = list()\n",
    "        for n in current_level:\n",
    "            if n.left:\n",
    "                next_level.append(n.left)\n",
    "            if n.right:\n",
    "                next_level.append(n.right)\n",
    "            current_level = next_level\n",
    "traverse(root)"
   ]
  }
 ],
 "metadata": {
  "kernelspec": {
   "display_name": "Python 3",
   "language": "python",
   "name": "python3"
  },
  "language_info": {
   "codemirror_mode": {
    "name": "ipython",
    "version": 3
   },
   "file_extension": ".py",
   "mimetype": "text/x-python",
   "name": "python",
   "nbconvert_exporter": "python",
   "pygments_lexer": "ipython3",
   "version": "3.7.3"
  }
 },
 "nbformat": 4,
 "nbformat_minor": 2
}
