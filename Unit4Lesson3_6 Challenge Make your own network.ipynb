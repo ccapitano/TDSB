{
 "cells": [
  {
   "cell_type": "code",
   "execution_count": 1,
   "metadata": {},
   "outputs": [],
   "source": [
    "import pandas as pd\n",
    "import numpy as np\n",
    "import matplotlib.pyplot as plt\n",
    "%matplotlib inline\n",
    "from sklearn import ensemble\n",
    "from sklearn.model_selection import cross_val_score\n",
    "from sklearn.neural_network import MLPClassifier"
   ]
  },
  {
   "cell_type": "code",
   "execution_count": 2,
   "metadata": {},
   "outputs": [],
   "source": [
    "# Use data from Random Forests lesson for Lending Club for 2015\n",
    "y2015 = pd.read_csv(\n",
    "    'LoanStats3d.csv',\n",
    "    skipinitialspace=True,\n",
    "    header=1,\n",
    "    low_memory=False\n",
    ")"
   ]
  },
  {
   "cell_type": "code",
   "execution_count": 3,
   "metadata": {},
   "outputs": [],
   "source": [
    "# Remove two summary rows at the end that don't actual'id', 'member_idly contain data.\n",
    "y2015 = y2015[:-2]\n",
    "\n",
    "# Drop columns with nulls (lots of data to work with)\n",
    "y2015 = y2015.dropna(axis=1)"
   ]
  },
  {
   "cell_type": "code",
   "execution_count": 4,
   "metadata": {},
   "outputs": [],
   "source": [
    "# Convert ID and Interest Rate to numeric.\n",
    "y2015['int_rate'] = pd.to_numeric(y2015['int_rate'].str.strip('%'), errors='coerce')"
   ]
  },
  {
   "cell_type": "code",
   "execution_count": 5,
   "metadata": {},
   "outputs": [
    {
     "data": {
      "text/plain": [
       "Index(['loan_amnt', 'funded_amnt', 'funded_amnt_inv', 'term', 'int_rate',\n",
       "       'installment', 'grade', 'sub_grade', 'home_ownership', 'annual_inc',\n",
       "       'verification_status', 'issue_d', 'loan_status', 'pymnt_plan',\n",
       "       'purpose', 'zip_code', 'addr_state', 'delinq_2yrs', 'earliest_cr_line',\n",
       "       'inq_last_6mths', 'open_acc', 'pub_rec', 'revol_bal', 'total_acc',\n",
       "       'initial_list_status', 'out_prncp', 'out_prncp_inv', 'total_pymnt',\n",
       "       'total_pymnt_inv', 'total_rec_prncp', 'total_rec_int',\n",
       "       'total_rec_late_fee', 'recoveries', 'collection_recovery_fee',\n",
       "       'last_pymnt_amnt', 'collections_12_mths_ex_med', 'policy_code',\n",
       "       'application_type', 'acc_now_delinq', 'tot_coll_amt', 'tot_cur_bal',\n",
       "       'total_rev_hi_lim', 'acc_open_past_24mths', 'avg_cur_bal',\n",
       "       'chargeoff_within_12_mths', 'delinq_amnt', 'mo_sin_old_rev_tl_op',\n",
       "       'mo_sin_rcnt_rev_tl_op', 'mo_sin_rcnt_tl', 'mort_acc',\n",
       "       'num_accts_ever_120_pd', 'num_actv_bc_tl', 'num_actv_rev_tl',\n",
       "       'num_bc_sats', 'num_bc_tl', 'num_il_tl', 'num_op_rev_tl',\n",
       "       'num_rev_tl_bal_gt_0', 'num_sats', 'num_tl_30dpd', 'num_tl_90g_dpd_24m',\n",
       "       'num_tl_op_past_12m', 'pct_tl_nvr_dlq', 'pub_rec_bankruptcies',\n",
       "       'tax_liens', 'tot_hi_cred_lim', 'total_bal_ex_mort', 'total_bc_limit',\n",
       "       'total_il_high_credit_limit', 'hardship_flag', 'disbursement_method',\n",
       "       'debt_settlement_flag'],\n",
       "      dtype='object')"
      ]
     },
     "execution_count": 5,
     "metadata": {},
     "output_type": "execute_result"
    }
   ],
   "source": [
    "y2015.columns"
   ]
  },
  {
   "cell_type": "code",
   "execution_count": 6,
   "metadata": {},
   "outputs": [],
   "source": [
    "# Drop other columns with many unique variables\n",
    "y2015.drop(['zip_code', 'earliest_cr_line'], 1, inplace=True)"
   ]
  },
  {
   "cell_type": "code",
   "execution_count": 7,
   "metadata": {},
   "outputs": [
    {
     "data": {
      "text/html": [
       "<div>\n",
       "<style scoped>\n",
       "    .dataframe tbody tr th:only-of-type {\n",
       "        vertical-align: middle;\n",
       "    }\n",
       "\n",
       "    .dataframe tbody tr th {\n",
       "        vertical-align: top;\n",
       "    }\n",
       "\n",
       "    .dataframe thead th {\n",
       "        text-align: right;\n",
       "    }\n",
       "</style>\n",
       "<table border=\"1\" class=\"dataframe\">\n",
       "  <thead>\n",
       "    <tr style=\"text-align: right;\">\n",
       "      <th></th>\n",
       "      <th>loan_amnt</th>\n",
       "      <th>funded_amnt</th>\n",
       "      <th>funded_amnt_inv</th>\n",
       "      <th>int_rate</th>\n",
       "      <th>installment</th>\n",
       "      <th>annual_inc</th>\n",
       "      <th>delinq_2yrs</th>\n",
       "      <th>inq_last_6mths</th>\n",
       "      <th>open_acc</th>\n",
       "      <th>pub_rec</th>\n",
       "      <th>...</th>\n",
       "      <th>num_tl_30dpd</th>\n",
       "      <th>num_tl_90g_dpd_24m</th>\n",
       "      <th>num_tl_op_past_12m</th>\n",
       "      <th>pct_tl_nvr_dlq</th>\n",
       "      <th>pub_rec_bankruptcies</th>\n",
       "      <th>tax_liens</th>\n",
       "      <th>tot_hi_cred_lim</th>\n",
       "      <th>total_bal_ex_mort</th>\n",
       "      <th>total_bc_limit</th>\n",
       "      <th>total_il_high_credit_limit</th>\n",
       "    </tr>\n",
       "  </thead>\n",
       "  <tbody>\n",
       "    <tr>\n",
       "      <th>count</th>\n",
       "      <td>421095.000000</td>\n",
       "      <td>421095.000000</td>\n",
       "      <td>421095.000000</td>\n",
       "      <td>421095.000000</td>\n",
       "      <td>421095.000000</td>\n",
       "      <td>4.210950e+05</td>\n",
       "      <td>421095.000000</td>\n",
       "      <td>421095.000000</td>\n",
       "      <td>421095.000000</td>\n",
       "      <td>421095.000000</td>\n",
       "      <td>...</td>\n",
       "      <td>421095.000000</td>\n",
       "      <td>421095.000000</td>\n",
       "      <td>421095.000000</td>\n",
       "      <td>421095.000000</td>\n",
       "      <td>421095.000000</td>\n",
       "      <td>421095.000000</td>\n",
       "      <td>4.210950e+05</td>\n",
       "      <td>4.210950e+05</td>\n",
       "      <td>421095.000000</td>\n",
       "      <td>4.210950e+05</td>\n",
       "    </tr>\n",
       "    <tr>\n",
       "      <th>mean</th>\n",
       "      <td>15240.285862</td>\n",
       "      <td>15240.285862</td>\n",
       "      <td>15234.156426</td>\n",
       "      <td>12.599315</td>\n",
       "      <td>441.842344</td>\n",
       "      <td>7.696561e+04</td>\n",
       "      <td>0.347397</td>\n",
       "      <td>0.572690</td>\n",
       "      <td>11.948643</td>\n",
       "      <td>0.233776</td>\n",
       "      <td>...</td>\n",
       "      <td>0.004042</td>\n",
       "      <td>0.094318</td>\n",
       "      <td>2.170947</td>\n",
       "      <td>93.924313</td>\n",
       "      <td>0.133188</td>\n",
       "      <td>0.064556</td>\n",
       "      <td>1.734070e+05</td>\n",
       "      <td>5.222199e+04</td>\n",
       "      <td>21958.208958</td>\n",
       "      <td>4.347865e+04</td>\n",
       "    </tr>\n",
       "    <tr>\n",
       "      <th>std</th>\n",
       "      <td>8571.325901</td>\n",
       "      <td>8571.325901</td>\n",
       "      <td>8567.935757</td>\n",
       "      <td>4.318782</td>\n",
       "      <td>244.847058</td>\n",
       "      <td>7.394996e+04</td>\n",
       "      <td>0.927695</td>\n",
       "      <td>0.867776</td>\n",
       "      <td>5.633119</td>\n",
       "      <td>0.649778</td>\n",
       "      <td>...</td>\n",
       "      <td>0.067965</td>\n",
       "      <td>0.522758</td>\n",
       "      <td>1.853858</td>\n",
       "      <td>8.875399</td>\n",
       "      <td>0.385975</td>\n",
       "      <td>0.444231</td>\n",
       "      <td>1.756722e+05</td>\n",
       "      <td>4.907494e+04</td>\n",
       "      <td>21840.371112</td>\n",
       "      <td>4.394271e+04</td>\n",
       "    </tr>\n",
       "    <tr>\n",
       "      <th>min</th>\n",
       "      <td>1000.000000</td>\n",
       "      <td>1000.000000</td>\n",
       "      <td>900.000000</td>\n",
       "      <td>5.320000</td>\n",
       "      <td>14.010000</td>\n",
       "      <td>0.000000e+00</td>\n",
       "      <td>0.000000</td>\n",
       "      <td>0.000000</td>\n",
       "      <td>1.000000</td>\n",
       "      <td>0.000000</td>\n",
       "      <td>...</td>\n",
       "      <td>0.000000</td>\n",
       "      <td>0.000000</td>\n",
       "      <td>0.000000</td>\n",
       "      <td>0.000000</td>\n",
       "      <td>0.000000</td>\n",
       "      <td>0.000000</td>\n",
       "      <td>2.500000e+03</td>\n",
       "      <td>0.000000e+00</td>\n",
       "      <td>0.000000</td>\n",
       "      <td>0.000000e+00</td>\n",
       "    </tr>\n",
       "    <tr>\n",
       "      <th>25%</th>\n",
       "      <td>8500.000000</td>\n",
       "      <td>8500.000000</td>\n",
       "      <td>8500.000000</td>\n",
       "      <td>9.170000</td>\n",
       "      <td>263.930000</td>\n",
       "      <td>4.600000e+04</td>\n",
       "      <td>0.000000</td>\n",
       "      <td>0.000000</td>\n",
       "      <td>8.000000</td>\n",
       "      <td>0.000000</td>\n",
       "      <td>...</td>\n",
       "      <td>0.000000</td>\n",
       "      <td>0.000000</td>\n",
       "      <td>1.000000</td>\n",
       "      <td>90.900000</td>\n",
       "      <td>0.000000</td>\n",
       "      <td>0.000000</td>\n",
       "      <td>5.090900e+04</td>\n",
       "      <td>2.259850e+04</td>\n",
       "      <td>7800.000000</td>\n",
       "      <td>1.548150e+04</td>\n",
       "    </tr>\n",
       "    <tr>\n",
       "      <th>50%</th>\n",
       "      <td>14000.000000</td>\n",
       "      <td>14000.000000</td>\n",
       "      <td>14000.000000</td>\n",
       "      <td>12.290000</td>\n",
       "      <td>385.410000</td>\n",
       "      <td>6.500000e+04</td>\n",
       "      <td>0.000000</td>\n",
       "      <td>0.000000</td>\n",
       "      <td>11.000000</td>\n",
       "      <td>0.000000</td>\n",
       "      <td>...</td>\n",
       "      <td>0.000000</td>\n",
       "      <td>0.000000</td>\n",
       "      <td>2.000000</td>\n",
       "      <td>97.400000</td>\n",
       "      <td>0.000000</td>\n",
       "      <td>0.000000</td>\n",
       "      <td>1.114050e+05</td>\n",
       "      <td>3.959600e+04</td>\n",
       "      <td>15200.000000</td>\n",
       "      <td>3.297000e+04</td>\n",
       "    </tr>\n",
       "    <tr>\n",
       "      <th>75%</th>\n",
       "      <td>20000.000000</td>\n",
       "      <td>20000.000000</td>\n",
       "      <td>20000.000000</td>\n",
       "      <td>15.590000</td>\n",
       "      <td>578.790000</td>\n",
       "      <td>9.169050e+04</td>\n",
       "      <td>0.000000</td>\n",
       "      <td>1.000000</td>\n",
       "      <td>15.000000</td>\n",
       "      <td>0.000000</td>\n",
       "      <td>...</td>\n",
       "      <td>0.000000</td>\n",
       "      <td>0.000000</td>\n",
       "      <td>3.000000</td>\n",
       "      <td>100.000000</td>\n",
       "      <td>0.000000</td>\n",
       "      <td>0.000000</td>\n",
       "      <td>2.496290e+05</td>\n",
       "      <td>6.565100e+04</td>\n",
       "      <td>28600.000000</td>\n",
       "      <td>5.829900e+04</td>\n",
       "    </tr>\n",
       "    <tr>\n",
       "      <th>max</th>\n",
       "      <td>35000.000000</td>\n",
       "      <td>35000.000000</td>\n",
       "      <td>35000.000000</td>\n",
       "      <td>28.990000</td>\n",
       "      <td>1445.460000</td>\n",
       "      <td>9.500000e+06</td>\n",
       "      <td>39.000000</td>\n",
       "      <td>6.000000</td>\n",
       "      <td>90.000000</td>\n",
       "      <td>86.000000</td>\n",
       "      <td>...</td>\n",
       "      <td>4.000000</td>\n",
       "      <td>39.000000</td>\n",
       "      <td>30.000000</td>\n",
       "      <td>100.000000</td>\n",
       "      <td>11.000000</td>\n",
       "      <td>85.000000</td>\n",
       "      <td>9.999999e+06</td>\n",
       "      <td>2.921551e+06</td>\n",
       "      <td>834300.000000</td>\n",
       "      <td>2.101913e+06</td>\n",
       "    </tr>\n",
       "  </tbody>\n",
       "</table>\n",
       "<p>8 rows × 55 columns</p>\n",
       "</div>"
      ],
      "text/plain": [
       "           loan_amnt    funded_amnt  funded_amnt_inv       int_rate  \\\n",
       "count  421095.000000  421095.000000    421095.000000  421095.000000   \n",
       "mean    15240.285862   15240.285862     15234.156426      12.599315   \n",
       "std      8571.325901    8571.325901      8567.935757       4.318782   \n",
       "min      1000.000000    1000.000000       900.000000       5.320000   \n",
       "25%      8500.000000    8500.000000      8500.000000       9.170000   \n",
       "50%     14000.000000   14000.000000     14000.000000      12.290000   \n",
       "75%     20000.000000   20000.000000     20000.000000      15.590000   \n",
       "max     35000.000000   35000.000000     35000.000000      28.990000   \n",
       "\n",
       "         installment    annual_inc    delinq_2yrs  inq_last_6mths  \\\n",
       "count  421095.000000  4.210950e+05  421095.000000   421095.000000   \n",
       "mean      441.842344  7.696561e+04       0.347397        0.572690   \n",
       "std       244.847058  7.394996e+04       0.927695        0.867776   \n",
       "min        14.010000  0.000000e+00       0.000000        0.000000   \n",
       "25%       263.930000  4.600000e+04       0.000000        0.000000   \n",
       "50%       385.410000  6.500000e+04       0.000000        0.000000   \n",
       "75%       578.790000  9.169050e+04       0.000000        1.000000   \n",
       "max      1445.460000  9.500000e+06      39.000000        6.000000   \n",
       "\n",
       "            open_acc        pub_rec  ...   num_tl_30dpd  num_tl_90g_dpd_24m  \\\n",
       "count  421095.000000  421095.000000  ...  421095.000000       421095.000000   \n",
       "mean       11.948643       0.233776  ...       0.004042            0.094318   \n",
       "std         5.633119       0.649778  ...       0.067965            0.522758   \n",
       "min         1.000000       0.000000  ...       0.000000            0.000000   \n",
       "25%         8.000000       0.000000  ...       0.000000            0.000000   \n",
       "50%        11.000000       0.000000  ...       0.000000            0.000000   \n",
       "75%        15.000000       0.000000  ...       0.000000            0.000000   \n",
       "max        90.000000      86.000000  ...       4.000000           39.000000   \n",
       "\n",
       "       num_tl_op_past_12m  pct_tl_nvr_dlq  pub_rec_bankruptcies  \\\n",
       "count       421095.000000   421095.000000         421095.000000   \n",
       "mean             2.170947       93.924313              0.133188   \n",
       "std              1.853858        8.875399              0.385975   \n",
       "min              0.000000        0.000000              0.000000   \n",
       "25%              1.000000       90.900000              0.000000   \n",
       "50%              2.000000       97.400000              0.000000   \n",
       "75%              3.000000      100.000000              0.000000   \n",
       "max             30.000000      100.000000             11.000000   \n",
       "\n",
       "           tax_liens  tot_hi_cred_lim  total_bal_ex_mort  total_bc_limit  \\\n",
       "count  421095.000000     4.210950e+05       4.210950e+05   421095.000000   \n",
       "mean        0.064556     1.734070e+05       5.222199e+04    21958.208958   \n",
       "std         0.444231     1.756722e+05       4.907494e+04    21840.371112   \n",
       "min         0.000000     2.500000e+03       0.000000e+00        0.000000   \n",
       "25%         0.000000     5.090900e+04       2.259850e+04     7800.000000   \n",
       "50%         0.000000     1.114050e+05       3.959600e+04    15200.000000   \n",
       "75%         0.000000     2.496290e+05       6.565100e+04    28600.000000   \n",
       "max        85.000000     9.999999e+06       2.921551e+06   834300.000000   \n",
       "\n",
       "       total_il_high_credit_limit  \n",
       "count                4.210950e+05  \n",
       "mean                 4.347865e+04  \n",
       "std                  4.394271e+04  \n",
       "min                  0.000000e+00  \n",
       "25%                  1.548150e+04  \n",
       "50%                  3.297000e+04  \n",
       "75%                  5.829900e+04  \n",
       "max                  2.101913e+06  \n",
       "\n",
       "[8 rows x 55 columns]"
      ]
     },
     "execution_count": 7,
     "metadata": {},
     "output_type": "execute_result"
    }
   ],
   "source": [
    "y2015.describe()"
   ]
  },
  {
   "cell_type": "code",
   "execution_count": 10,
   "metadata": {},
   "outputs": [],
   "source": [
    "# blind approach\n",
    "rfc = ensemble.RandomForestClassifier()\n",
    "X = y2015.drop(['loan_status'], 1)\n",
    "Y = y2015['loan_status']\n",
    "X = pd.get_dummies(X)\n"
   ]
  },
  {
   "cell_type": "code",
   "execution_count": 11,
   "metadata": {},
   "outputs": [
    {
     "name": "stderr",
     "output_type": "stream",
     "text": [
      "C:\\ProgramData\\Anaconda3\\lib\\site-packages\\sklearn\\model_selection\\_split.py:652: Warning: The least populated class in y has only 1 members, which is too few. The minimum number of members in any class cannot be less than n_splits=5.\n",
      "  % (min_groups, self.n_splits)), Warning)\n",
      "C:\\ProgramData\\Anaconda3\\lib\\site-packages\\sklearn\\ensemble\\forest.py:246: FutureWarning: The default value of n_estimators will change from 10 in version 0.20 to 100 in 0.22.\n",
      "  \"10 in version 0.20 to 100 in 0.22.\", FutureWarning)\n",
      "C:\\ProgramData\\Anaconda3\\lib\\site-packages\\sklearn\\ensemble\\forest.py:246: FutureWarning: The default value of n_estimators will change from 10 in version 0.20 to 100 in 0.22.\n",
      "  \"10 in version 0.20 to 100 in 0.22.\", FutureWarning)\n",
      "C:\\ProgramData\\Anaconda3\\lib\\site-packages\\sklearn\\ensemble\\forest.py:246: FutureWarning: The default value of n_estimators will change from 10 in version 0.20 to 100 in 0.22.\n",
      "  \"10 in version 0.20 to 100 in 0.22.\", FutureWarning)\n",
      "C:\\ProgramData\\Anaconda3\\lib\\site-packages\\sklearn\\ensemble\\forest.py:246: FutureWarning: The default value of n_estimators will change from 10 in version 0.20 to 100 in 0.22.\n",
      "  \"10 in version 0.20 to 100 in 0.22.\", FutureWarning)\n",
      "C:\\ProgramData\\Anaconda3\\lib\\site-packages\\sklearn\\ensemble\\forest.py:246: FutureWarning: The default value of n_estimators will change from 10 in version 0.20 to 100 in 0.22.\n",
      "  \"10 in version 0.20 to 100 in 0.22.\", FutureWarning)\n"
     ]
    },
    {
     "data": {
      "text/plain": [
       "array([0.98169124, 0.9897769 , 0.98886237, 0.98955093, 0.98958618])"
      ]
     },
     "execution_count": 11,
     "metadata": {},
     "output_type": "execute_result"
    }
   ],
   "source": [
    "cross_val_score(rfc, X, Y, cv=5)\n"
   ]
  },
  {
   "cell_type": "code",
   "execution_count": 12,
   "metadata": {},
   "outputs": [
    {
     "name": "stdout",
     "output_type": "stream",
     "text": [
      "0.9922226575950795\n",
      "Fully Paid            0.711816\n",
      "Charged Off           0.180014\n",
      "Current               0.102825\n",
      "Late (31-120 days)    0.003227\n",
      "In Grace Period       0.001453\n",
      "Late (16-30 days)     0.000663\n",
      "Default               0.000002\n",
      "Name: loan_status, dtype: float64\n"
     ]
    },
    {
     "name": "stderr",
     "output_type": "stream",
     "text": [
      "C:\\ProgramData\\Anaconda3\\lib\\site-packages\\sklearn\\model_selection\\_split.py:652: Warning: The least populated class in y has only 1 members, which is too few. The minimum number of members in any class cannot be less than n_splits=5.\n",
      "  % (min_groups, self.n_splits)), Warning)\n"
     ]
    },
    {
     "data": {
      "text/plain": [
       "array([0.98942082, 0.99003811, 0.99268574, 0.99091643, 0.99223416])"
      ]
     },
     "execution_count": 12,
     "metadata": {},
     "output_type": "execute_result"
    }
   ],
   "source": [
    "# Import the model.\n",
    "from sklearn.neural_network import MLPClassifier\n",
    "\n",
    "# Establish and fit the model, with a single, 1000 perceptron layer.\n",
    "mlp = MLPClassifier(hidden_layer_sizes=(1000,))\n",
    "mlp.fit(X, Y)\n",
    "\n",
    "print(mlp.score(X, Y))\n",
    "print(Y.value_counts()/len(Y))\n",
    "\n",
    "cross_val_score(mlp, X, Y, cv=5)"
   ]
  },
  {
   "cell_type": "code",
   "execution_count": 13,
   "metadata": {},
   "outputs": [
    {
     "name": "stdout",
     "output_type": "stream",
     "text": [
      "0.71181562355288\n",
      "Fully Paid            0.711816\n",
      "Charged Off           0.180014\n",
      "Current               0.102825\n",
      "Late (31-120 days)    0.003227\n",
      "In Grace Period       0.001453\n",
      "Late (16-30 days)     0.000663\n",
      "Default               0.000002\n",
      "Name: loan_status, dtype: float64\n"
     ]
    },
    {
     "name": "stderr",
     "output_type": "stream",
     "text": [
      "C:\\ProgramData\\Anaconda3\\lib\\site-packages\\sklearn\\model_selection\\_split.py:652: Warning: The least populated class in y has only 1 members, which is too few. The minimum number of members in any class cannot be less than n_splits=5.\n",
      "  % (min_groups, self.n_splits)), Warning)\n"
     ]
    },
    {
     "data": {
      "text/plain": [
       "array([0.71179739, 0.71180584, 0.71181087, 0.71181933, 0.71185656])"
      ]
     },
     "execution_count": 13,
     "metadata": {},
     "output_type": "execute_result"
    }
   ],
   "source": [
    "# Try with multiple layers\n",
    "mlp = MLPClassifier(hidden_layer_sizes=(500,50,100,))\n",
    "mlp.fit(X, Y)\n",
    "\n",
    "print(mlp.score(X, Y))\n",
    "print(Y.value_counts()/len(Y))\n",
    "\n",
    "cross_val_score(mlp, X, Y, cv=5)"
   ]
  },
  {
   "cell_type": "code",
   "execution_count": null,
   "metadata": {},
   "outputs": [],
   "source": [
    "# once again the multiple layers with fewer data points produces a much lower score\n",
    "# the scores for random forest and for one layer network with many points are very similar\n",
    "# and are high enough to suspect overfitting in both cases\n",
    "# For this data set, random forest takes less time to run, so would pursue adjustments\n",
    "# to that model to reduce risk of overfitting"
   ]
  }
 ],
 "metadata": {
  "kernelspec": {
   "display_name": "Python 3",
   "language": "python",
   "name": "python3"
  },
  "language_info": {
   "codemirror_mode": {
    "name": "ipython",
    "version": 3
   },
   "file_extension": ".py",
   "mimetype": "text/x-python",
   "name": "python",
   "nbconvert_exporter": "python",
   "pygments_lexer": "ipython3",
   "version": "3.7.3"
  }
 },
 "nbformat": 4,
 "nbformat_minor": 2
}
