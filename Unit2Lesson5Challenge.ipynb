{
 "cells": [
  {
   "cell_type": "code",
   "execution_count": 1,
   "metadata": {},
   "outputs": [],
   "source": [
    "import pandas as pd\n",
    "import numpy as np\n",
    "import matplotlib.pyplot as plt\n",
    "import seaborn as sns\n",
    "%matplotlib inline\n",
    "sns.set_style('white')\n",
    "\n",
    "import math\n",
    "import scipy\n",
    "import sklearn\n",
    "from sklearn.model_selection import cross_val_score\n",
    "from sklearn import linear_model\n",
    "from sklearn.model_selection import train_test_split\n",
    "from sklearn.linear_model import LinearRegression\n",
    "import statsmodels.formula.api as smf\n",
    "from statsmodels.sandbox.regression.predstd import wls_prediction_std"
   ]
  },
  {
   "cell_type": "code",
   "execution_count": 2,
   "metadata": {},
   "outputs": [],
   "source": [
    "# Grab and process the original data set\n",
    "raw = pd.read_csv('fbi_data_2013.csv')\n",
    "raw.columns = ['City','Population','Violent crime','Murder','Rape1','Rape2','Robbery','Aggravated Assault','Property Crime','Burglary','Larceny','MV Theft','Arson3']\n",
    "raw.fillna(0, inplace=True)"
   ]
  },
  {
   "cell_type": "code",
   "execution_count": 3,
   "metadata": {},
   "outputs": [
    {
     "data": {
      "text/plain": [
       "<matplotlib.collections.PathCollection at 0x1faa4fef828>"
      ]
     },
     "execution_count": 3,
     "metadata": {},
     "output_type": "execute_result"
    },
    {
     "data": {
      "image/png": "[encoded data removed]",
      "text/plain": [
       "<Figure size 432x288 with 1 Axes>"
      ]
     },
     "metadata": {
      "needs_background": "light"
     },
     "output_type": "display_data"
    }
   ],
   "source": [
    "# Let's see if we can set up a model, excluding New York, using larceny and burglary to predict Property Crime\n",
    "X = raw[['Burglary','Larceny']][raw['City']!= \"New York\"]\n",
    "y = raw['Property Crime'][raw['City']!= \"New York\"]\n",
    "# Let's put 30% of the data into the test\n",
    "X_train, X_test, y_train, y_test = train_test_split(X, y, test_size=0.3)\n",
    "\n",
    "regr = LinearRegression()\n",
    "regr.fit(X_train,y_train)\n",
    "predictions = regr.predict(X_test)\n",
    "plt.scatter(y_test,predictions)\n"
   ]
  },
  {
   "cell_type": "code",
   "execution_count": 4,
   "metadata": {},
   "outputs": [
    {
     "name": "stdout",
     "output_type": "stream",
     "text": [
      "With 20% Holdout: 0.9997464199278685\n",
      "Testing on Sample: 0.9998051274431816\n"
     ]
    }
   ],
   "source": [
    "# let's add some holdouts and see how it holds up.\n",
    "predictions = regr.fit(X, y).predict(X)\n",
    "\n",
    "print('With 20% Holdout: ' + str(regr.fit(X_train, y_train).score(X_test, y_test)))\n",
    "print('Testing on Sample: ' + str(regr.fit(X, y).score(X, y)))"
   ]
  },
  {
   "cell_type": "code",
   "execution_count": 5,
   "metadata": {},
   "outputs": [
    {
     "data": {
      "text/plain": [
       "array([0.99971818, 0.99978263, 0.99811279, 0.99963657, 0.99795632,\n",
       "       0.99791626, 0.99920129, 0.99995832, 0.9998678 , 0.99855729])"
      ]
     },
     "execution_count": 5,
     "metadata": {},
     "output_type": "execute_result"
    }
   ],
   "source": [
    "# let's add some folds and see how it holds up.\n",
    "cross_val_score(regr, X, y, cv=10)"
   ]
  },
  {
   "cell_type": "code",
   "execution_count": 6,
   "metadata": {},
   "outputs": [
    {
     "data": {
      "text/html": [
       "<div>\n",
       "<style scoped>\n",
       "    .dataframe tbody tr th:only-of-type {\n",
       "        vertical-align: middle;\n",
       "    }\n",
       "\n",
       "    .dataframe tbody tr th {\n",
       "        vertical-align: top;\n",
       "    }\n",
       "\n",
       "    .dataframe thead th {\n",
       "        text-align: right;\n",
       "    }\n",
       "</style>\n",
       "<table border=\"1\" class=\"dataframe\">\n",
       "  <thead>\n",
       "    <tr style=\"text-align: right;\">\n",
       "      <th></th>\n",
       "      <th>Population</th>\n",
       "      <th>Violent crime</th>\n",
       "      <th>Murder</th>\n",
       "      <th>Rape1</th>\n",
       "      <th>Rape2</th>\n",
       "      <th>Robbery</th>\n",
       "      <th>Aggravated Assault</th>\n",
       "      <th>Property Crime</th>\n",
       "      <th>Burglary</th>\n",
       "      <th>Larceny</th>\n",
       "      <th>MV Theft</th>\n",
       "      <th>Arson3</th>\n",
       "    </tr>\n",
       "  </thead>\n",
       "  <tbody>\n",
       "    <tr>\n",
       "      <th>count</th>\n",
       "      <td>3.690000e+02</td>\n",
       "      <td>369.000000</td>\n",
       "      <td>369.000000</td>\n",
       "      <td>369.000000</td>\n",
       "      <td>369.000000</td>\n",
       "      <td>369.000000</td>\n",
       "      <td>369.000000</td>\n",
       "      <td>369.000000</td>\n",
       "      <td>369.000000</td>\n",
       "      <td>369.000000</td>\n",
       "      <td>369.000000</td>\n",
       "      <td>369.000000</td>\n",
       "    </tr>\n",
       "    <tr>\n",
       "      <th>mean</th>\n",
       "      <td>3.778070e+04</td>\n",
       "      <td>183.680217</td>\n",
       "      <td>1.452575</td>\n",
       "      <td>9.569106</td>\n",
       "      <td>0.002710</td>\n",
       "      <td>60.658537</td>\n",
       "      <td>111.997290</td>\n",
       "      <td>696.439024</td>\n",
       "      <td>100.883469</td>\n",
       "      <td>561.238482</td>\n",
       "      <td>34.317073</td>\n",
       "      <td>1.409214</td>\n",
       "    </tr>\n",
       "    <tr>\n",
       "      <th>std</th>\n",
       "      <td>4.411616e+05</td>\n",
       "      <td>2638.843058</td>\n",
       "      <td>17.693912</td>\n",
       "      <td>114.869639</td>\n",
       "      <td>0.052058</td>\n",
       "      <td>866.481053</td>\n",
       "      <td>1640.515401</td>\n",
       "      <td>7114.024267</td>\n",
       "      <td>855.105355</td>\n",
       "      <td>5861.945422</td>\n",
       "      <td>406.956766</td>\n",
       "      <td>7.952852</td>\n",
       "    </tr>\n",
       "    <tr>\n",
       "      <th>min</th>\n",
       "      <td>0.000000e+00</td>\n",
       "      <td>0.000000</td>\n",
       "      <td>0.000000</td>\n",
       "      <td>0.000000</td>\n",
       "      <td>0.000000</td>\n",
       "      <td>0.000000</td>\n",
       "      <td>0.000000</td>\n",
       "      <td>0.000000</td>\n",
       "      <td>0.000000</td>\n",
       "      <td>0.000000</td>\n",
       "      <td>0.000000</td>\n",
       "      <td>0.000000</td>\n",
       "    </tr>\n",
       "    <tr>\n",
       "      <th>25%</th>\n",
       "      <td>2.620000e+03</td>\n",
       "      <td>1.000000</td>\n",
       "      <td>0.000000</td>\n",
       "      <td>0.000000</td>\n",
       "      <td>0.000000</td>\n",
       "      <td>0.000000</td>\n",
       "      <td>0.000000</td>\n",
       "      <td>25.000000</td>\n",
       "      <td>4.000000</td>\n",
       "      <td>20.000000</td>\n",
       "      <td>0.000000</td>\n",
       "      <td>0.000000</td>\n",
       "    </tr>\n",
       "    <tr>\n",
       "      <th>50%</th>\n",
       "      <td>6.548000e+03</td>\n",
       "      <td>5.000000</td>\n",
       "      <td>0.000000</td>\n",
       "      <td>0.000000</td>\n",
       "      <td>0.000000</td>\n",
       "      <td>1.000000</td>\n",
       "      <td>3.000000</td>\n",
       "      <td>75.000000</td>\n",
       "      <td>12.000000</td>\n",
       "      <td>60.000000</td>\n",
       "      <td>2.000000</td>\n",
       "      <td>0.000000</td>\n",
       "    </tr>\n",
       "    <tr>\n",
       "      <th>75%</th>\n",
       "      <td>1.540800e+04</td>\n",
       "      <td>18.000000</td>\n",
       "      <td>0.000000</td>\n",
       "      <td>2.000000</td>\n",
       "      <td>0.000000</td>\n",
       "      <td>4.000000</td>\n",
       "      <td>12.000000</td>\n",
       "      <td>270.000000</td>\n",
       "      <td>39.000000</td>\n",
       "      <td>228.000000</td>\n",
       "      <td>6.000000</td>\n",
       "      <td>1.000000</td>\n",
       "    </tr>\n",
       "    <tr>\n",
       "      <th>max</th>\n",
       "      <td>8.473938e+06</td>\n",
       "      <td>50564.000000</td>\n",
       "      <td>333.000000</td>\n",
       "      <td>2190.000000</td>\n",
       "      <td>1.000000</td>\n",
       "      <td>16581.000000</td>\n",
       "      <td>31460.000000</td>\n",
       "      <td>135747.000000</td>\n",
       "      <td>15916.000000</td>\n",
       "      <td>112107.000000</td>\n",
       "      <td>7724.000000</td>\n",
       "      <td>135.000000</td>\n",
       "    </tr>\n",
       "  </tbody>\n",
       "</table>\n",
       "</div>"
      ],
      "text/plain": [
       "         Population  Violent crime      Murder        Rape1       Rape2  \\\n",
       "count  3.690000e+02     369.000000  369.000000   369.000000  369.000000   \n",
       "mean   3.778070e+04     183.680217    1.452575     9.569106    0.002710   \n",
       "std    4.411616e+05    2638.843058   17.693912   114.869639    0.052058   \n",
       "min    0.000000e+00       0.000000    0.000000     0.000000    0.000000   \n",
       "25%    2.620000e+03       1.000000    0.000000     0.000000    0.000000   \n",
       "50%    6.548000e+03       5.000000    0.000000     0.000000    0.000000   \n",
       "75%    1.540800e+04      18.000000    0.000000     2.000000    0.000000   \n",
       "max    8.473938e+06   50564.000000  333.000000  2190.000000    1.000000   \n",
       "\n",
       "            Robbery  Aggravated Assault  Property Crime      Burglary  \\\n",
       "count    369.000000          369.000000      369.000000    369.000000   \n",
       "mean      60.658537          111.997290      696.439024    100.883469   \n",
       "std      866.481053         1640.515401     7114.024267    855.105355   \n",
       "min        0.000000            0.000000        0.000000      0.000000   \n",
       "25%        0.000000            0.000000       25.000000      4.000000   \n",
       "50%        1.000000            3.000000       75.000000     12.000000   \n",
       "75%        4.000000           12.000000      270.000000     39.000000   \n",
       "max    16581.000000        31460.000000   135747.000000  15916.000000   \n",
       "\n",
       "             Larceny     MV Theft      Arson3  \n",
       "count     369.000000   369.000000  369.000000  \n",
       "mean      561.238482    34.317073    1.409214  \n",
       "std      5861.945422   406.956766    7.952852  \n",
       "min         0.000000     0.000000    0.000000  \n",
       "25%        20.000000     0.000000    0.000000  \n",
       "50%        60.000000     2.000000    0.000000  \n",
       "75%       228.000000     6.000000    1.000000  \n",
       "max    112107.000000  7724.000000  135.000000  "
      ]
     },
     "execution_count": 6,
     "metadata": {},
     "output_type": "execute_result"
    }
   ],
   "source": [
    "# Now let's give it a go against 2014 data\n",
    "fbi2014 = pd.read_csv('fbi_data_2014.csv')\n",
    "fbi2014.columns = ['City','Population','Violent crime','Murder','Rape1','Rape2','Robbery','Aggravated Assault','Property Crime','Burglary','Larceny','MV Theft','Arson3']\n",
    "fbi2014.fillna(0, inplace=True)\n",
    "fbi2014.describe()"
   ]
  },
  {
   "cell_type": "code",
   "execution_count": 7,
   "metadata": {},
   "outputs": [
    {
     "data": {
      "text/plain": [
       "<matplotlib.collections.PathCollection at 0x1faa50cb390>"
      ]
     },
     "execution_count": 7,
     "metadata": {},
     "output_type": "execute_result"
    },
    {
     "data": {
      "image/png": "[encoded data removed]",
      "text/plain": [
       "<Figure size 432x288 with 1 Axes>"
      ]
     },
     "metadata": {
      "needs_background": "light"
     },
     "output_type": "display_data"
    }
   ],
   "source": [
    "# Set test data to 2014 data\n",
    "X_test = fbi2014[['Burglary','Larceny']][fbi2014['City']!= \"New York\"]\n",
    "y_test = fbi2014['Property Crime'][fbi2014['City']!= \"New York\"]\n",
    "\n",
    "X_train, X_test, y_train, y_test = train_test_split(X, y, test_size=.9)\n",
    "\n",
    "regr = LinearRegression()\n",
    "regr.fit(X_train,y_train)\n",
    "predictions = regr.predict(X_test)\n",
    "plt.scatter(y_test,predictions)\n"
   ]
  },
  {
   "cell_type": "code",
   "execution_count": 8,
   "metadata": {},
   "outputs": [
    {
     "name": "stdout",
     "output_type": "stream",
     "text": [
      "With 20% Holdout: 0.9988874312465228\n",
      "Testing on Sample: 0.9998051274431816\n"
     ]
    }
   ],
   "source": [
    "# let's add some holdouts and see how it holds up.\n",
    "predictions = regr.fit(X, y).predict(X_test)\n",
    "\n",
    "print('With 20% Holdout: ' + str(regr.fit(X_train, y_train).score(X_test, y_test)))\n",
    "print('Testing on Sample: ' + str(regr.fit(X, y).score(X, y)))"
   ]
  },
  {
   "cell_type": "code",
   "execution_count": 9,
   "metadata": {},
   "outputs": [
    {
     "data": {
      "text/plain": [
       "array([0.99858101, 0.99930527, 0.99979243, 0.999197  , 0.99740934,\n",
       "       0.99953736, 0.99595035, 0.99929775, 0.99886152, 0.99748367,\n",
       "       0.99988721, 0.99959651, 0.99956362, 0.999886  , 0.99823268,\n",
       "       0.99986063, 0.99683362, 0.99828691, 0.99928037, 0.99973061,\n",
       "       0.99964037, 0.99995544, 0.99963095, 0.99949031, 0.9995628 ,\n",
       "       0.99977076, 0.99920842, 0.99953546, 0.99961577, 0.99965089])"
      ]
     },
     "execution_count": 9,
     "metadata": {},
     "output_type": "execute_result"
    }
   ],
   "source": [
    "# let's add some folds and see how it holds up.\n",
    "cross_val_score(regr, X_test, y_test, cv=30)"
   ]
  }
 ],
 "metadata": {
  "kernelspec": {
   "display_name": "Python 3",
   "language": "python",
   "name": "python3"
  },
  "language_info": {
   "codemirror_mode": {
    "name": "ipython",
    "version": 3
   },
   "file_extension": ".py",
   "mimetype": "text/x-python",
   "name": "python",
   "nbconvert_exporter": "python",
   "pygments_lexer": "ipython3",
   "version": "3.7.2"
  }
 },
 "nbformat": 4,
 "nbformat_minor": 2
}
