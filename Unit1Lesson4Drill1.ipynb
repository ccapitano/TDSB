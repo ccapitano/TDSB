{
 "cells": [
  {
   "cell_type": "markdown",
   "metadata": {},
   "source": [
    "Does a new supplement help people sleep better?\n",
    "Two versions - have a group of people using new supplement compared to people using a previous supplement\n",
    "A sample - customers currently using previous supplement\n",
    "A hypothesis.  People will sleep better when using the new supplement \n",
    "Outcome(s) of interest. How many hours did people sleep?  Did they report feeling more or less rested?\n",
    "Other measured variables.  What are their typical bedtimes/risetimes?  Male/female?  Age?"
   ]
  },
  {
   "cell_type": "markdown",
   "metadata": {},
   "source": [
    "Will new uniforms help a gym's business?\n",
    "Two versions - persons wearing old uniform; persons wearing new uniform\n",
    "A sample - half employees wearing old/ half wear new during specified shifts (random between male/female)\n",
    "A hypothesis.  People will return to the gym more often (keeping their membership) and sign up for membership more often when employees wear the new uniforms\n",
    "Outcome(s) of interest. Increased monthly sales\n",
    "Other measured variables.  Male/female; age"
   ]
  },
  {
   "cell_type": "markdown",
   "metadata": {},
   "source": [
    "Will a new homepage improve my online exotic pet rental business?\n",
    "Two versions - existing page; new page\n",
    "A sample - compare statistics and analytics during 3 months at same time in prior year (old page) to 3 months of new page\n",
    "A hypothesis.  The new page will result in greater number of rentals.\n",
    "Outcome(s) of interest. Increased rentals\n",
    "Other measured variables.  pet of interest"
   ]
  },
  {
   "cell_type": "markdown",
   "metadata": {},
   "source": [
    "If I put 'please read' in the email subject will more people read my emails?\n",
    "Two versions - existing emails; new email\n",
    "A sample - compare open rates over a 2 week period\n",
    "A hypothesis.  \"Please read\" will result in more people opening the emails\n",
    "Outcome(s) of interest. Increased opens\n",
    "Other measured variables.  time of day"
   ]
  },
  {
   "cell_type": "markdown",
   "metadata": {},
   "source": []
  },
  {
   "cell_type": "markdown",
   "metadata": {},
   "source": []
  }
 ],
 "metadata": {
  "kernelspec": {
   "display_name": "Python 3",
   "language": "python",
   "name": "python3"
  },
  "language_info": {
   "codemirror_mode": {
    "name": "ipython",
    "version": 3
   },
   "file_extension": ".py",
   "mimetype": "text/x-python",
   "name": "python",
   "nbconvert_exporter": "python",
   "pygments_lexer": "ipython3",
   "version": "3.7.2"
  }
 },
 "nbformat": 4,
 "nbformat_minor": 2
}
