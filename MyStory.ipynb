{
 "cells": [
  {
   "cell_type": "markdown",
   "metadata": {},
   "source": [
    "Career Goals\n",
    "\n",
    "My vision for my near-term future professionally begins to reveal – digital transformation advisor\n",
    "\n",
    "As a transitional CFO, I will help companies redesign their infrastructure to prepare to meet the challenges of doing business - being profitable, keeping and growing customers – in tomorrow’s technology landscape (IoT, blockchain, big data)\n",
    "\n",
    "This will include \n",
    "•\tit starts with a master strategy for being a company in tomorrow’s technology landscape\n",
    "•\tand then, tactics for getting there such as \n",
    "    o\tidentifying employees whose jobs will change or be eliminated and guiding roadmap development of \n",
    "        skill acquisition needed for the employees to make the transition\n",
    "    o\tidentifying processes that will be changed or eliminated and guiding roadmap development of transition to new processes\n",
    "    o\tidentifying systems that will change or be eliminated and guiding roadmap development of transition to new system \n",
    "        and technologies (Big “S”)\n"
   ]
  }
 ],
 "metadata": {
  "kernelspec": {
   "display_name": "Python 3",
   "language": "python",
   "name": "python3"
  },
  "language_info": {
   "codemirror_mode": {
    "name": "ipython",
    "version": 3
   },
   "file_extension": ".py",
   "mimetype": "text/x-python",
   "name": "python",
   "nbconvert_exporter": "python",
   "pygments_lexer": "ipython3",
   "version": "3.7.2"
  }
 },
 "nbformat": 4,
 "nbformat_minor": 2
}
