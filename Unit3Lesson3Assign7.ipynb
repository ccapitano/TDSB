{
 "cells": [
  {
   "cell_type": "code",
   "execution_count": 1,
   "metadata": {},
   "outputs": [],
   "source": [
    "import pandas as pd\n",
    "import numpy as np\n",
    "import statistics\n",
    "import collections\n",
    "import matplotlib.pyplot as plt\n",
    "%matplotlib inline"
   ]
  },
  {
   "cell_type": "code",
   "execution_count": 14,
   "metadata": {},
   "outputs": [
    {
     "name": "stdout",
     "output_type": "stream",
     "text": [
      "2.007\n",
      "5.0095\n",
      "1.2648126343454986\n",
      "1.584111659574539\n",
      "1.98\n",
      "5.02\n",
      "1.1574109036984228\n",
      "1.483104851316993\n"
     ]
    }
   ],
   "source": [
    "# Reproduce the pop1 and pop2 populations and samples, using numpy's binomial function\n",
    "# Specifically, create two binomially distributed populations with n equal to 10 and size equal to 10000. \n",
    "# The p-value of pop1 should be 0.2 and the p-value of pop2 should be 0.5.\n",
    "\n",
    "pop1 = np.random.binomial(10, 0.2, 10000)\n",
    "pop2 = np.random.binomial(10,0.5, 10000)\n",
    "print(pop1.mean())\n",
    "print(pop2.mean())\n",
    "print(pop1.std())\n",
    "print(pop2.std())\n",
    "\n",
    "# Using a sample size of 100, calculate the means and standard deviations of your samples.\n",
    "\n",
    "sample1 = np.random.choice(pop1, 100, replace=True)\n",
    "sample2 = np.random.choice(pop2, 100, replace=True)\n",
    "\n",
    "s1_mean = sample1.mean()\n",
    "s2_mean = sample2.mean()\n",
    "s1_std = sample1.std()\n",
    "s2_std = sample2.std()\n",
    "\n",
    "print(sample1.mean())\n",
    "print(sample2.mean())\n",
    "print(sample1.std())\n",
    "print(sample2.std())\n"
   ]
  },
  {
   "cell_type": "code",
   "execution_count": null,
   "metadata": {},
   "outputs": [],
   "source": [
    "# For each of the following tasks, first write what you expect will happen, \n",
    "# then code the changes and observe what does happen. Discuss the results with your mentor."
   ]
  },
  {
   "cell_type": "code",
   "execution_count": 15,
   "metadata": {},
   "outputs": [
    {
     "name": "stdout",
     "output_type": "stream",
     "text": [
      "2.011\n",
      "5.022\n",
      "1.2628851887642043\n",
      "1.5866682072821652\n"
     ]
    },
    {
     "data": {
      "image/png": "[encoded data removed]",
      "text/plain": [
       "<Figure size 432x288 with 1 Axes>"
      ]
     },
     "metadata": {
      "needs_background": "light"
     },
     "output_type": "display_data"
    }
   ],
   "source": [
    "# Increase the size of your samples from 100 to 1000, \n",
    "# then calculate the means and standard deviations for your new samples and create histograms for each. \n",
    "\n",
    "# One would expect the mean to approach the population center more closely\n",
    "\n",
    "sample1 = np.random.choice(pop1, 1000, replace=True)\n",
    "sample2 = np.random.choice(pop2, 1000, replace=True)\n",
    "\n",
    "s1_mean = sample1.mean()\n",
    "s2_mean = sample2.mean()\n",
    "s1_std = sample1.std()\n",
    "s2_std = sample2.std()\n",
    "\n",
    "print(sample1.mean())\n",
    "print(sample2.mean())\n",
    "print(sample1.std())\n",
    "print(sample2.std())\n",
    "\n",
    "plt.hist(sample1, alpha=0.5, label='sample 1') \n",
    "plt.hist(sample2, alpha=0.5, label='sample 2') \n",
    "plt.legend(loc='upper right') \n",
    "plt.show()"
   ]
  },
  {
   "cell_type": "code",
   "execution_count": 16,
   "metadata": {},
   "outputs": [
    {
     "name": "stdout",
     "output_type": "stream",
     "text": [
      "2.2\n",
      "5.2\n",
      "1.0295630140987\n",
      "1.6309506430300091\n"
     ]
    },
    {
     "data": {
      "image/png": "[encoded data removed]",
      "text/plain": [
       "<Figure size 432x288 with 1 Axes>"
      ]
     },
     "metadata": {
      "needs_background": "light"
     },
     "output_type": "display_data"
    }
   ],
   "source": [
    "# Repeat this again, decreasing the size of your samples to 20. What values change, and what remain the same?\n",
    "\n",
    "# One would expect the mean to do the opposite as a smaller sample will generally be \n",
    "# less representative of the entire population\n",
    "\n",
    "sample1 = np.random.choice(pop1, 20, replace=True)\n",
    "sample2 = np.random.choice(pop2, 20, replace=True)\n",
    "\n",
    "s1_mean = sample1.mean()\n",
    "s2_mean = sample2.mean()\n",
    "s1_std = sample1.std()\n",
    "s2_std = sample2.std()\n",
    "\n",
    "print(sample1.mean())\n",
    "print(sample2.mean())\n",
    "print(sample1.std())\n",
    "print(sample2.std())\n",
    "\n",
    "plt.hist(sample1, alpha=0.5, label='sample 1') \n",
    "plt.hist(sample2, alpha=0.5, label='sample 2') \n",
    "plt.legend(loc='upper right') \n",
    "plt.show()"
   ]
  },
  {
   "cell_type": "code",
   "execution_count": 17,
   "metadata": {},
   "outputs": [
    {
     "name": "stdout",
     "output_type": "stream",
     "text": [
      "2.9962\n",
      "1.4440864101569546\n",
      "2.96\n",
      "1.363231455036158\n",
      "4.93\n",
      "1.6015929570274714\n",
      "Ttest_indResult(statistic=9.319675857425903, pvalue=2.715817948733406e-17)\n"
     ]
    }
   ],
   "source": [
    "# Change the probability value (p in the NumPy documentation) for pop1 to 0.3, \n",
    "pop1 = np.random.binomial(10, 0.3, 10000)\n",
    "print(pop1.mean())\n",
    "print(pop1.std())\n",
    "\n",
    "# then take new samples and compute the t-statistic and p-value.\n",
    "sample1 = np.random.choice(pop1, 100, replace=True)\n",
    "sample2 = np.random.choice(pop2, 100, replace=True)\n",
    "print(sample1.mean())\n",
    "print(sample1.std())\n",
    "print(sample2.mean())\n",
    "print(sample2.std())\n",
    "\n",
    "from scipy.stats import ttest_ind\n",
    "print(ttest_ind(sample2, sample1, equal_var=False))\n",
    "\n"
   ]
  },
  {
   "cell_type": "code",
   "execution_count": 18,
   "metadata": {},
   "outputs": [
    {
     "name": "stdout",
     "output_type": "stream",
     "text": [
      "3.9838\n",
      "1.546006972817393\n",
      "4.0\n",
      "1.5099668870541498\n",
      "4.9\n",
      "1.6643316977093239\n",
      "Ttest_indResult(statistic=3.9848723845051914, pvalue=9.515100159442347e-05)\n"
     ]
    }
   ],
   "source": [
    "# Then change the probability value p for group 1 to 0.4, and do it again. What changes, and why?\n",
    "\n",
    "pop1 = np.random.binomial(10, 0.4, 10000)\n",
    "print(pop1.mean())\n",
    "print(pop1.std())\n",
    "\n",
    "# then take new samples and compute the t-statistic and p-value.\n",
    "sample1 = np.random.choice(pop1, 100, replace=True)\n",
    "sample2 = np.random.choice(pop2, 100, replace=True)\n",
    "print(sample1.mean())\n",
    "print(sample1.std())\n",
    "print(sample2.mean())\n",
    "print(sample2.std())\n",
    "\n",
    "from scipy.stats import ttest_ind\n",
    "print(ttest_ind(sample2, sample1, equal_var=False))\n",
    "\n",
    "# the means and standard deviations start to approach one another and the t-value tightens in range\n",
    "# as the populations become more and more similar"
   ]
  },
  {
   "cell_type": "code",
   "execution_count": 19,
   "metadata": {},
   "outputs": [
    {
     "name": "stdout",
     "output_type": "stream",
     "text": [
      "22487.815767992273\n",
      "24756.804188706614\n",
      "4546.379497022549\n",
      "13467.326384909875\n"
     ]
    }
   ],
   "source": [
    "# Change the distribution of your populations from binomial to a distribution of your choice. \n",
    "\n",
    "pop1 = np.random.lognormal(10, 0.2, 10000)\n",
    "pop2 = np.random.lognormal(10,0.5, 10000)\n",
    "print(pop1.mean())\n",
    "print(pop2.mean())\n",
    "print(pop1.std())\n",
    "print(pop2.std())\n",
    "\n",
    "# Do the sample mean values still accurately represent the population values?\n",
    "#  not even close\n"
   ]
  },
  {
   "cell_type": "code",
   "execution_count": 20,
   "metadata": {},
   "outputs": [
    {
     "name": "stdout",
     "output_type": "stream",
     "text": [
      "22612.699353192933\n",
      "4483.2877040574795\n",
      "25248.80484958305\n",
      "14151.574783721911\n",
      "Ttest_indResult(statistic=5.61270624157764, pvalue=2.47317605929989e-08)\n"
     ]
    }
   ],
   "source": [
    "# But if you take a large sample from the new populations, it gets closer\n",
    "sample1 = np.random.choice(pop1, 1000, replace=True)\n",
    "sample2 = np.random.choice(pop2, 1000, replace=True)\n",
    "print(sample1.mean())\n",
    "print(sample1.std())\n",
    "print(sample2.mean())\n",
    "print(sample2.std())\n",
    "\n",
    "from scipy.stats import ttest_ind\n",
    "print(ttest_ind(sample2, sample1, equal_var=False))\n"
   ]
  }
 ],
 "metadata": {
  "kernelspec": {
   "display_name": "Python 3",
   "language": "python",
   "name": "python3"
  },
  "language_info": {
   "codemirror_mode": {
    "name": "ipython",
    "version": 3
   },
   "file_extension": ".py",
   "mimetype": "text/x-python",
   "name": "python",
   "nbconvert_exporter": "python",
   "pygments_lexer": "ipython3",
   "version": "3.7.2"
  }
 },
 "nbformat": 4,
 "nbformat_minor": 2
}
